








import pandas as pd
import numpy as np
import matplotlib.pyplot as plt
import seaborn as sns
from sklearn.preprocessing import StandardScaler, MinMaxScaler
from sklearn.model_selection import train_test_split
from sklearn.neighbors import KNeighborsClassifier
from sklearn.metrics import classification_report, accuracy_score
from sklearn.experimental import enable_iterative_imputer
from sklearn.impute import IterativeImputer
import warnings


# Import functions from the SP_ETL_Functions file
from EDA.SP_ETL_Functions import *


# Load the Excel file into a DataFrame
data_file = '/data/parkinsons_data.csv'
df = pd.read_csv(data_file)





# Dictionary of names
dict_names = {
    'name':'Name',
    'MDVP:Fo(Hz)': 'MDVP_Fo',
    'MDVP:Fhi(Hz)': 'MDVP_Fhi',
    'MDVP:Flo(Hz)': 'MDVP_Flo',
    'MDVP:Jitter(%)': 'MDVP_Jitter_percent',
    'MDVP:Jitter(Abs)': 'MDVP_Jitter_Abs',
    'MDVP:RAP': 'MDVP_RAP',
    'MDVP:PPQ': 'MDVP_PPQ',
    'Jitter:DDP': 'Jitter_DDP',
    'MDVP:Shimmer': 'MDVP_Shim',
    'MDVP:Shimmer(dB)': 'MDVP_Shim_dB',
    'Shimmer:APQ3': 'Shimmer_APQ3',
    'Shimmer:APQ5': 'Shimmer_APQ5',
    'MDVP:APQ': 'MDVP_APQ',
    'Shimmer:DDA': 'Shimmer_DDA',
    'NHR': 'NHR',
    'HNR': 'HNR',
    'status': 'Status',
    'RPDE': 'RPDE',
    'DFA': 'DFA',
    'spread1': 'Spread1',
    'spread2': 'Spread2',
    'D2': 'D2',
    'PPE': 'PPE'
}

# Apply the function to rename the columns
renamed_df = rename_variables(df, dict_names)

# View the result
print(renamed_df.columns)





count_nulls(renamed_df)





# Visualize outliers
generate_boxplots(renamed_df, None)


# Handle outliers
df_no_outliers = handle_outliers(renamed_df)





df_no_corr = drop_correlated_vbles(df_no_outliers, 'Status', 0.75, True)


df_no_corr.head()





generate_boxplots(df_no_corr, 'Status')





# Show the summary of the data before and after
print("\nData summary before (original):\n")
print(renamed_df.describe())
print("\nData summary clean (no outliers or correlated variables):\n")
print(df_no_corr.describe())





grouped_df = group_and_average(df_no_corr)


grouped_df.head()





scatter_plot(grouped_df, var1='MDVP_Fo', var2='MDVP_Flo', groups='Status')





# Apply the normalization function
normalized_df = normalize_dataframe(grouped_df, method='z-score', exclude_columns=['Subject_ID', 'Status'])


normalized_df.head()









